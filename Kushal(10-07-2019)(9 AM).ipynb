{
 "cells": [
  {
   "cell_type": "code",
   "execution_count": 7,
   "metadata": {},
   "outputs": [],
   "source": [
    "d1= {'Name': 'Kushal', 'address': \"Hyderabad\"}"
   ]
  },
  {
   "cell_type": "code",
   "execution_count": 9,
   "metadata": {},
   "outputs": [],
   "source": [
    "d1['Name'] = 'Gitam'"
   ]
  },
  {
   "cell_type": "code",
   "execution_count": 10,
   "metadata": {},
   "outputs": [
    {
     "data": {
      "text/plain": [
       "'Gitam'"
      ]
     },
     "execution_count": 10,
     "metadata": {},
     "output_type": "execute_result"
    }
   ],
   "source": [
    "d1['Name'] # Access the specific key"
   ]
  },
  {
   "cell_type": "code",
   "execution_count": 11,
   "metadata": {},
   "outputs": [
    {
     "data": {
      "text/plain": [
       "{'Name': 'Gitam', 'address': 'Hyderabad'}"
      ]
     },
     "execution_count": 11,
     "metadata": {},
     "output_type": "execute_result"
    }
   ],
   "source": [
    "d1"
   ]
  },
  {
   "cell_type": "code",
   "execution_count": 12,
   "metadata": {},
   "outputs": [
    {
     "data": {
      "text/plain": [
       "dict_keys(['Name', 'address'])"
      ]
     },
     "execution_count": 12,
     "metadata": {},
     "output_type": "execute_result"
    }
   ],
   "source": [
    "d1.keys() # returns the list of keys"
   ]
  },
  {
   "cell_type": "code",
   "execution_count": 13,
   "metadata": {},
   "outputs": [
    {
     "data": {
      "text/plain": [
       "dict_values(['Gitam', 'Hyderabad'])"
      ]
     },
     "execution_count": 13,
     "metadata": {},
     "output_type": "execute_result"
    }
   ],
   "source": [
    "d1.values() # return the values"
   ]
  },
  {
   "cell_type": "code",
   "execution_count": 14,
   "metadata": {},
   "outputs": [
    {
     "data": {
      "text/plain": [
       "dict_items([('Name', 'Gitam'), ('address', 'Hyderabad')])"
      ]
     },
     "execution_count": 14,
     "metadata": {},
     "output_type": "execute_result"
    }
   ],
   "source": [
    "d1.items()# the list of tuples of keys and values"
   ]
  },
  {
   "cell_type": "markdown",
   "metadata": {},
   "source": [
    "### Tuples\n",
    "- t1 parenthesis() li square brackets[]\n",
    "- Differences between list and tuples\n",
    "     - list are mutable - can be changed / modified\n",
    "          - used to access modify , add , delete data\n",
    "     - tuples are immutable - cannot be changed\n",
    "          - Used to access data only"
   ]
  },
  {
   "cell_type": "code",
   "execution_count": 16,
   "metadata": {},
   "outputs": [
    {
     "data": {
      "text/plain": [
       "tuple"
      ]
     },
     "execution_count": 16,
     "metadata": {},
     "output_type": "execute_result"
    }
   ],
   "source": [
    "t1 = (1,2,3,4,5,6)\n",
    "t1\n",
    "type(t1)"
   ]
  },
  {
   "cell_type": "markdown",
   "metadata": {},
   "source": [
    "### Contact Application\n",
    " - Add Contact\n",
    " - Search the Contact\n",
    " - List all contacts\n",
    "     - name1 : phone1\n",
    "     - name2 : phone2\n",
    " - Modify the contact\n",
    " - Remove the contact\n",
    " - Import the contact"
   ]
  },
  {
   "cell_type": "code",
   "execution_count": 19,
   "metadata": {},
   "outputs": [
    {
     "name": "stdout",
     "output_type": "stream",
     "text": [
      "Contact details are added\n",
      "Contact details are added\n",
      "Contact details are already exists\n"
     ]
    }
   ],
   "source": [
    "# Add contact\n",
    "contacts = {} # Creating a dictionary object\n",
    "def addContacts(name,phone):\n",
    "    if name not in contacts: # Condition to check phone exisits or not\n",
    "        contacts[name] = phone\n",
    "        print(\"Contact details are added\")\n",
    "    else:\n",
    "        print(\"Contact details are already exists\")\n",
    "    return\n",
    "addContacts('Kushal','7893044510')\n",
    "addContacts('Vishal','8008952106')\n",
    "addContacts('Vishal','6303183496')"
   ]
  },
  {
   "cell_type": "code",
   "execution_count": 20,
   "metadata": {},
   "outputs": [
    {
     "data": {
      "text/plain": [
       "{'Kushal': '7893044510', 'Vishal': '8008952106'}"
      ]
     },
     "execution_count": 20,
     "metadata": {},
     "output_type": "execute_result"
    }
   ],
   "source": [
    "contacts"
   ]
  },
  {
   "cell_type": "code",
   "execution_count": 22,
   "metadata": {},
   "outputs": [
    {
     "name": "stdout",
     "output_type": "stream",
     "text": [
      "Kushal  :  7893044510\n",
      "Dejo does not exists\n",
      "Vishal  :  8008952106\n"
     ]
    }
   ],
   "source": [
    "# Search for contact details\n",
    "def searchContact(name):\n",
    "    if name in contacts:\n",
    "        print(name, \" : \" , contacts[name])\n",
    "    else:\n",
    "        print(\"%s does not exists\"% name)\n",
    "    return\n",
    "searchContact('Kushal')\n",
    "searchContact('Dejo')\n",
    "searchContact('Vishal')"
   ]
  },
  {
   "cell_type": "code",
   "execution_count": 24,
   "metadata": {},
   "outputs": [
    {
     "name": "stdout",
     "output_type": "stream",
     "text": [
      "2 Contacts added successfully\n"
     ]
    }
   ],
   "source": [
    "# Import some contacts\n",
    "# Merge the contact with existing one\n",
    "def importContact(newContacts):\n",
    "    contacts.update(newContacts)\n",
    "    print(len(newContacts.keys()),\"Contacts added successfully\")\n",
    "    return\n",
    "newContacts = {'Dejo' :9989870353,'Nikhil':8008246333}\n",
    "importContact(newContacts)"
   ]
  },
  {
   "cell_type": "code",
   "execution_count": 25,
   "metadata": {},
   "outputs": [
    {
     "data": {
      "text/plain": [
       "{'Kushal': '7893044510',\n",
       " 'Vishal': '8008952106',\n",
       " 'Dejo': 9989870353,\n",
       " 'Nikhil': 8008246333}"
      ]
     },
     "execution_count": 25,
     "metadata": {},
     "output_type": "execute_result"
    }
   ],
   "source": [
    "contacts"
   ]
  },
  {
   "cell_type": "code",
   "execution_count": 26,
   "metadata": {},
   "outputs": [
    {
     "name": "stdout",
     "output_type": "stream",
     "text": [
      "Dejo Deleted successfully\n"
     ]
    }
   ],
   "source": [
    "# Delete a contact\n",
    "def deleteContact(name):\n",
    "    if name in contacts:\n",
    "        del contacts[name]\n",
    "        print(name,\"Deleted successfully\")\n",
    "    else:\n",
    "        print(name,\"Not exists\")\n",
    "    return\n",
    "deleteContact('Dejo')"
   ]
  },
  {
   "cell_type": "code",
   "execution_count": 27,
   "metadata": {},
   "outputs": [
    {
     "data": {
      "text/plain": [
       "{'Kushal': '7893044510', 'Vishal': '8008952106', 'Nikhil': 8008246333}"
      ]
     },
     "execution_count": 27,
     "metadata": {},
     "output_type": "execute_result"
    }
   ],
   "source": [
    "contacts"
   ]
  },
  {
   "cell_type": "code",
   "execution_count": 35,
   "metadata": {},
   "outputs": [
    {
     "name": "stdout",
     "output_type": "stream",
     "text": [
      "Vishal Updated successfully\n",
      "Dejo Not exists\n"
     ]
    }
   ],
   "source": [
    "# Update the contact details\n",
    "def deleteContact(name,phone):\n",
    "    if name in contacts:\n",
    "        contacts[name] = phone\n",
    "        print(name,\"Updated successfully\")\n",
    "    else:\n",
    "        print(name,\"Not exists\")\n",
    "    return\n",
    "deleteContact('Vishal',6303183496)\n",
    "deleteContact('Dejo',9989870353)"
   ]
  },
  {
   "cell_type": "code",
   "execution_count": 36,
   "metadata": {},
   "outputs": [
    {
     "data": {
      "text/plain": [
       "{'Kushal': '7893044510', 'Vishal': 6303183496, 'Nikhil': 8008246333}"
      ]
     },
     "execution_count": 36,
     "metadata": {},
     "output_type": "execute_result"
    }
   ],
   "source": [
    "contacts"
   ]
  },
  {
   "cell_type": "code",
   "execution_count": 40,
   "metadata": {},
   "outputs": [
    {
     "name": "stdout",
     "output_type": "stream",
     "text": [
      "Python Programming \n"
     ]
    }
   ],
   "source": [
    "# Classical version\n",
    "li = [\"Python\",\"Programming\"]\n",
    "print(\"%s %s \"% (li[0],li[1]))"
   ]
  },
  {
   "cell_type": "code",
   "execution_count": 41,
   "metadata": {},
   "outputs": [
    {
     "name": "stdout",
     "output_type": "stream",
     "text": [
      "Python Programming\n"
     ]
    }
   ],
   "source": [
    "print(\"{0} {1}\".format(li[0],li[1]))"
   ]
  },
  {
   "cell_type": "code",
   "execution_count": 42,
   "metadata": {},
   "outputs": [
    {
     "name": "stdout",
     "output_type": "stream",
     "text": [
      "1 2 3 4\n"
     ]
    }
   ],
   "source": [
    "li1 = [1,2,3,4]\n",
    "print(\"%d %d %d %d\" % (li1[0],li1[1],li1[2],li1[3]))"
   ]
  },
  {
   "cell_type": "code",
   "execution_count": 43,
   "metadata": {},
   "outputs": [
    {
     "name": "stdout",
     "output_type": "stream",
     "text": [
      "1 2 3 4 \n"
     ]
    }
   ],
   "source": [
    "print(\"{0} {1} {2} {3} \".format(li1[0],li1[1],li1[2],li1[3]))"
   ]
  },
  {
   "cell_type": "markdown",
   "metadata": {},
   "source": [
    "### String Functions\n",
    "- upper() -- Will converts the given string into upper case\n",
    "- lower() -- Will converts the given string into lower case"
   ]
  },
  {
   "cell_type": "code",
   "execution_count": 45,
   "metadata": {},
   "outputs": [
    {
     "name": "stdout",
     "output_type": "stream",
     "text": [
      "GITAM\n",
      "gitam\n"
     ]
    }
   ],
   "source": [
    "s1 = 'Gitam'\n",
    "print(s1.upper())\n",
    "print(s1.lower())"
   ]
  },
  {
   "cell_type": "markdown",
   "metadata": {},
   "source": [
    "### Boolean Function (True and False)\n",
    "- islower() -- True if the string is lower case / Flase if the string not in lower case\n",
    "- isupper() -- True if the string in upper case / False if the string not in upper case\n",
    "- istitle() -- True if the string follows title case / False if it does not follow\n",
    "- isalpha() -- True if the string contains only alphabets / False\n",
    "- isnumeric() -- True if the string contains only numbers / False\n",
    "- isspace() -- True if the string contains only spaces / False"
   ]
  },
  {
   "cell_type": "code",
   "execution_count": 46,
   "metadata": {},
   "outputs": [
    {
     "name": "stdout",
     "output_type": "stream",
     "text": [
      "False\n",
      "True\n"
     ]
    }
   ],
   "source": [
    "s1 = 'GITAM'\n",
    "print(s1.islower())\n",
    "print(s1.isupper())"
   ]
  },
  {
   "cell_type": "code",
   "execution_count": 48,
   "metadata": {},
   "outputs": [
    {
     "name": "stdout",
     "output_type": "stream",
     "text": [
      "True\n",
      "False\n"
     ]
    }
   ],
   "source": [
    "s2 = \"Python Programming\"\n",
    "s3 = \"python Programming\"\n",
    "print(s2.istitle())\n",
    "print(s3.istitle())"
   ]
  },
  {
   "cell_type": "code",
   "execution_count": 50,
   "metadata": {},
   "outputs": [
    {
     "name": "stdout",
     "output_type": "stream",
     "text": [
      "False\n",
      "True\n"
     ]
    }
   ],
   "source": [
    "s2 = \"Applicatiom1889\"\n",
    "s3 = \"PythonProgramming\"\n",
    "print(s2.isalpha())\n",
    "print(s3.isalpha())"
   ]
  },
  {
   "cell_type": "code",
   "execution_count": 52,
   "metadata": {},
   "outputs": [
    {
     "name": "stdout",
     "output_type": "stream",
     "text": [
      "True\n",
      "False\n"
     ]
    }
   ],
   "source": [
    "s1 = \"1234\"\n",
    "s2 = \"12c4\"\n",
    "print(s1.isnumeric())\n",
    "print(s2.isnumeric())"
   ]
  },
  {
   "cell_type": "code",
   "execution_count": 54,
   "metadata": {},
   "outputs": [
    {
     "name": "stdout",
     "output_type": "stream",
     "text": [
      "True\n",
      "False\n"
     ]
    }
   ],
   "source": [
    "s1 = \" \"\n",
    "s2 = \"Py th on\"\n",
    "print(s1.isspace())\n",
    "print(s2.isspace())"
   ]
  },
  {
   "cell_type": "markdown",
   "metadata": {},
   "source": [
    "### String Methods\n",
    "- 1.join() -- Method will cancatinates the two strings\n",
    "- 2.split() -- It Returns the list of strings seperated ny whitespace(no parameters are given)\n",
    "- 3.replace() -- Replaces the specific word/character with new word/character"
   ]
  },
  {
   "cell_type": "code",
   "execution_count": 55,
   "metadata": {},
   "outputs": [
    {
     "name": "stdout",
     "output_type": "stream",
     "text": [
      "P y t h o n\n"
     ]
    }
   ],
   "source": [
    "s1 = 'Python'\n",
    "print(\" \".join(s1))"
   ]
  },
  {
   "cell_type": "code",
   "execution_count": 56,
   "metadata": {},
   "outputs": [
    {
     "name": "stdout",
     "output_type": "stream",
     "text": [
      "P,y,t,h,o,n, ,P,r,o,g,r,a,m,m,i,n,g, ,E,a,y, ,t,o, ,l,e,a,r,n\n"
     ]
    }
   ],
   "source": [
    "s2 = \"Python Programming Eay to learn\"\n",
    "print(\",\".join(s2))"
   ]
  },
  {
   "cell_type": "code",
   "execution_count": 57,
   "metadata": {},
   "outputs": [
    {
     "name": "stdout",
     "output_type": "stream",
     "text": [
      "Python,Programming,Learn\n"
     ]
    }
   ],
   "source": [
    "li = ['Python','Programming','Learn']\n",
    "print(\",\".join(li))"
   ]
  },
  {
   "cell_type": "code",
   "execution_count": 58,
   "metadata": {},
   "outputs": [
    {
     "name": "stdout",
     "output_type": "stream",
     "text": [
      "['Python', 'Programming', 'Easy', 'to', 'Learn']\n"
     ]
    }
   ],
   "source": [
    "s2 = \"Python Programming Easy to Learn\"\n",
    "print(s2.split())"
   ]
  },
  {
   "cell_type": "code",
   "execution_count": 59,
   "metadata": {},
   "outputs": [
    {
     "name": "stdout",
     "output_type": "stream",
     "text": [
      "['Python Progr', 'mming E', 'sy to Le', 'rn']\n"
     ]
    }
   ],
   "source": [
    "s2 = \"Python Programming Easy to Learn\"\n",
    "print(s2.split('a'))"
   ]
  },
  {
   "cell_type": "code",
   "execution_count": 61,
   "metadata": {},
   "outputs": [
    {
     "name": "stdout",
     "output_type": "stream",
     "text": [
      "['Python', 'Programming', 'Easy', 'to', 'Learn']\n",
      "5\n"
     ]
    }
   ],
   "source": [
    "s2 = \"Python Programming Easy to Learn\"\n",
    "li = s2.split() # Split the string -- list object\n",
    "print(li)\n",
    "print(len(li))"
   ]
  },
  {
   "cell_type": "code",
   "execution_count": 64,
   "metadata": {},
   "outputs": [
    {
     "name": "stdout",
     "output_type": "stream",
     "text": [
      "['P', 'y', 't', 'h', 'o', 'n', ' ', 'P', 'r', 'o', 'g', 'r', 'a', 'm', 'm', 'i', 'n', 'g', ' ', 'E', 'a', 's', 't', ' ', 't', 'o', ' ', 'l', 'e', 'a', 'r', 'n']\n"
     ]
    }
   ],
   "source": [
    "s2 = \"Python Programming East to learn\"\n",
    "li = list(s2)\n",
    "print(li)"
   ]
  },
  {
   "cell_type": "code",
   "execution_count": 66,
   "metadata": {},
   "outputs": [
    {
     "name": "stdout",
     "output_type": "stream",
     "text": [
      "Python ProApplicationmming Easy to Learn\n"
     ]
    }
   ],
   "source": [
    "s2 = \"Python Programming Easy to Learn\"\n",
    "print(s2.replace(\"gra\",\"Application\"))"
   ]
  },
  {
   "cell_type": "code",
   "execution_count": null,
   "metadata": {},
   "outputs": [],
   "source": []
  }
 ],
 "metadata": {
  "kernelspec": {
   "display_name": "Python 3",
   "language": "python",
   "name": "python3"
  },
  "language_info": {
   "codemirror_mode": {
    "name": "ipython",
    "version": 3
   },
   "file_extension": ".py",
   "mimetype": "text/x-python",
   "name": "python",
   "nbconvert_exporter": "python",
   "pygments_lexer": "ipython3",
   "version": "3.7.3"
  }
 },
 "nbformat": 4,
 "nbformat_minor": 2
}
